{
  "nbformat": 4,
  "nbformat_minor": 0,
  "metadata": {
    "colab": {
      "name": "CODECHEF-RECRUITMENT-1ST YEARS-Q1",
      "provenance": [],
      "collapsed_sections": [],
      "include_colab_link": true
    },
    "kernelspec": {
      "name": "python3",
      "display_name": "Python 3"
    }
  },
  "cells": [
    {
      "cell_type": "markdown",
      "metadata": {
        "id": "view-in-github",
        "colab_type": "text"
      },
      "source": [
        "<a href=\"https://colab.research.google.com/github/whattheprak/CodeChefrecruit/blob/main/CODECHEF_RECRUITMENT_1ST_YEARS_Q1.ipynb\" target=\"_parent\"><img src=\"https://colab.research.google.com/assets/colab-badge.svg\" alt=\"Open In Colab\"/></a>"
      ]
    },
    {
      "cell_type": "code",
      "metadata": {
        "id": "AapFsC4MtPb_"
      },
      "source": [
        ""
      ],
      "execution_count": null,
      "outputs": []
    },
    {
      "cell_type": "markdown",
      "metadata": {
        "id": "MpmzSGr1taZ7"
      },
      "source": [
        "## Q1\r\n",
        "## Third Largest Element\r\n",
        "## Write a function that returns the third largest element of a list of integers. (Assume all elements in l will be distinct)"
      ]
    },
    {
      "cell_type": "code",
      "metadata": {
        "id": "vam9MIuRtgQ9"
      },
      "source": [
        "import sys \r\n",
        "def thirdLargest(arr, arr_size): \r\n",
        "  \r\n",
        "  \r\n",
        "    if (arr_size < 3): \r\n",
        "      \r\n",
        "        print(\" Invalid Input \") \r\n",
        "        return\r\n",
        "      \r\n",
        "  \r\n",
        "  \r\n",
        "    first = arr[0] \r\n",
        "    for i in range(1, arr_size): \r\n",
        "        if (arr[i] > first): \r\n",
        "            first = arr[i] \r\n",
        "  \r\n",
        "   \r\n",
        "    second = -sys.maxsize \r\n",
        "    for i in range(0, arr_size): \r\n",
        "        if (arr[i] > second and \r\n",
        "            arr[i] < first): \r\n",
        "            second = arr[i] \r\n",
        "  \r\n",
        "\r\n",
        "    third = -sys.maxsize \r\n",
        "    for i in range(0, arr_size): \r\n",
        "        if (arr[i] > third and\r\n",
        "            arr[i] < second): \r\n",
        "            third = arr[i] \r\n",
        "  \r\n",
        "    print(\"The Third Largest\",  \r\n",
        "          \"element is\", third) \r\n",
        "  \r\n",
        "\r\n",
        "arr = [1,2,3,4]\r\n",
        "n = len(arr) \r\n",
        "thirdLargest(arr, n)\r\n",
        "    "
      ],
      "execution_count": null,
      "outputs": []
    },
    {
      "cell_type": "code",
      "metadata": {
        "id": "Z43RoUxItlQR"
      },
      "source": [
        "\r\n",
        "## l=[1,2,3,4]\r\n",
        "## third_largest_element(l)\r\n",
        "## for testing \r\n",
        "## output should be 2"
      ],
      "execution_count": null,
      "outputs": []
    },
    {
      "cell_type": "code",
      "metadata": {
        "id": "xNoy8_PbtuQm"
      },
      "source": [
        ""
      ],
      "execution_count": null,
      "outputs": []
    },
    {
      "cell_type": "markdown",
      "metadata": {
        "id": "xByo24f0tyoG"
      },
      "source": [
        "\r\n",
        "## Q2\r\n",
        "## Taylor Series\r\n",
        "## Taylor Series expansion of $e^x$ upto $n$ terms is as follows\r\n",
        "$$\r\n",
        "e^x = \\sum_{i=0}^{n}{\\frac{x^i}{i!}}\r\n",
        "$$where $i!$ is factorial of $i$ i.e., $1*2*3*\\ldots*i$\r\n",
        "\r\n",
        "Write a function that takes arguments $n$ and $x$ and finds value of taylor expansion of $e^x$ upto $n$ terms"
      ]
    },
    {
      "cell_type": "code",
      "metadata": {
        "id": "5HY0hOGOt3yX"
      },
      "source": [
        " def exponential(n, x): \r\n",
        "  \r\n",
        "   \r\n",
        "    sum = 1.0 \r\n",
        "    for i in range(n, 0, -1): \r\n",
        "        sum = 1 + x * sum / i \r\n",
        "    print (\"e^x =\", sum) \r\n",
        "  \r\n",
        "\r\n",
        "n = 10\r\n",
        "x = 1.0\r\n",
        "exponential(n, x) "
      ],
      "execution_count": null,
      "outputs": []
    },
    {
      "cell_type": "code",
      "metadata": {
        "id": "hoyiKAF5t69C"
      },
      "source": [
        "\r\n",
        "## n=10\r\n",
        "## x=1.0\r\n",
        "## taylor_expansion_ex(x,n)\r\n",
        "## Output should be: 2.7182818011463845"
      ],
      "execution_count": null,
      "outputs": []
    },
    {
      "cell_type": "markdown",
      "metadata": {
        "id": "pu5uLsqEuMj9"
      },
      "source": [
        "\r\n",
        "## Q3\r\n",
        "## Armstrong numbers\r\n",
        "## Armstrong number is a number that is equal to the sum of cubes of its digits.\r\n",
        "For eg., $153 = 1^3 + 5^3 + 3^3$\r\n",
        "\r\n",
        "Write a function that takes an argument $n$ and returns list of armstrong numbers between $0$ and $n$ (including $0$ and $n$)(List should be sorted in ascending order)"
      ]
    },
    {
      "cell_type": "code",
      "metadata": {
        "id": "A8pn5EM_uOAf"
      },
      "source": [
        "lower = int(input(\"Enter lower range: \"))  \r\n",
        "upper = int(input(\"Enter upper range: \"))  \r\n",
        "  \r\n",
        "for num in range(lower,upper + 1):  \r\n",
        "   sum = 0  \r\n",
        "   temp = num  \r\n",
        "   while temp > 0:  \r\n",
        "       digit = temp % 10  \r\n",
        "       sum += digit ** 3  \r\n",
        "       temp //= 10  \r\n",
        "       if num == sum:  \r\n",
        "            print(num) "
      ],
      "execution_count": null,
      "outputs": []
    },
    {
      "cell_type": "code",
      "metadata": {
        "id": "r5-7ofJxuUqI"
      },
      "source": [
        "## n=10000\r\n",
        "## armstrong_numbers(n)\r\n",
        "\r\n",
        "## Output should be: \r\n",
        "## [153, 370, 371, 407, 1634, 8208, 9474]"
      ],
      "execution_count": null,
      "outputs": []
    },
    {
      "cell_type": "markdown",
      "metadata": {
        "id": "2P1_WJ1_uh0v"
      },
      "source": [
        "## Q4\r\n",
        "## Remove all occurences\r\n",
        "## Given a list $l$ and element $e$, remove all occurences of $e$ from $l$ and return it."
      ]
    },
    {
      "cell_type": "code",
      "metadata": {
        "id": "m6-ISrYCukyR"
      },
      "source": [
        "l = [1,2,3,4,2,2,2,2]\r\n",
        "val = 0\r\n",
        "l.remove(val)\r\n",
        "print(l)  "
      ],
      "execution_count": null,
      "outputs": []
    },
    {
      "cell_type": "code",
      "metadata": {
        "id": "MdYBFsH3unpG"
      },
      "source": [
        "## l=[1,2,3,4,2,2,2,2]\r\n",
        "## e=2\r\n",
        "## remove_occurences(l,e)\r\n",
        "## Output should be:\r\n",
        "##[1, 3, 4]\r\n"
      ],
      "execution_count": null,
      "outputs": []
    },
    {
      "cell_type": "markdown",
      "metadata": {
        "id": "cbbXYTodu8tD"
      },
      "source": [
        "## Q5\r\n",
        "## Adder function\r\n",
        "# Write a function that takes an input $a$ and returns a function $f$.\r\n",
        "$f$ should take an input $n$ and return the sum of $a$ and $n$."
      ]
    },
    {
      "cell_type": "code",
      "metadata": {
        "id": "69kCx29Lu92S"
      },
      "source": [
        "def get_adder(x):\r\n",
        "    def adder(y):\r\n",
        "      return x+y\r\n",
        "  return adder\r\n",
        "n=int(input('Enter first number:'))\r\n",
        "add_n = get_adder(n)\r\n",
        "\r\n",
        "x=int(input('Enter second number:'))\r\n",
        "print add_n(x) \r\n",
        "    "
      ],
      "execution_count": null,
      "outputs": []
    },
    {
      "cell_type": "code",
      "metadata": {
        "id": "x1X9ifj5vE8s"
      },
      "source": [
        "## a=get_adder(2)\r\n",
        "## a(3)\r\n",
        "## Output should be: 5"
      ],
      "execution_count": null,
      "outputs": []
    }
  ]
}